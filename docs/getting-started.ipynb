{
 "cells": [
  {
   "cell_type": "markdown",
   "metadata": {
    "pycharm": {
     "name": "#%% md\n"
    }
   },
   "source": [
    "# BBData Python Wrapper\n",
    "\n",
    "Hi! Here's a Python Notebook to get you started with the functions at your\n",
    "disposal to use BBData.\n",
    "\n",
    "## Prerequisites\n",
    "\n",
    "Ask a BBData Administrator for an account and create a credential file in \n",
    "`~/.bbdata/credentials.json` with the following content:\n"
   ]
  },
  {
   "cell_type": "code",
   "execution_count": 25,
   "metadata": {},
   "outputs": [
    {
     "data": {
      "text/plain": [
       "{'username': '<my.username>', 'password': '<my.password>'}"
      ]
     },
     "execution_count": 25,
     "metadata": {},
     "output_type": "execute_result"
    }
   ],
   "source": [
    "{ \"username\": \"<my.username>\", \"password\": \"<my.password>\" }"
   ]
  },
  {
   "cell_type": "markdown",
   "metadata": {},
   "source": [
    "## A Few Words About the Structure\n",
    "\n",
    "The wrapper is structured in two parts, the `output` and `input` module, so\n",
    "that it fits with the HTTP APIs initially created.\n",
    "\n",
    "So, if you want to use the `output` endpoint, import the module as follow:"
   ]
  },
  {
   "cell_type": "code",
   "execution_count": 26,
   "metadata": {
    "pycharm": {
     "is_executing": false,
     "name": "#%%\n"
    }
   },
   "outputs": [],
   "source": [
    "from bbdata import output"
   ]
  },
  {
   "cell_type": "markdown",
   "metadata": {},
   "source": [
    "It should greet you with your user name to signal you that the credential file has\n",
    "read successfully."
   ]
  },
  {
   "cell_type": "markdown",
   "metadata": {},
   "source": [
    "## Access the Data\n",
    "\n",
    "Now, you can start using the API. Just login with"
   ]
  },
  {
   "cell_type": "code",
   "execution_count": 27,
   "metadata": {
    "pycharm": {
     "is_executing": false,
     "name": "#%%\n"
    }
   },
   "outputs": [
    {
     "data": {
      "text/plain": [
       "{'description': 'auto_login',\n",
       " 'expirationdate': '2019-10-08T23:54:37.525',\n",
       " 'id': 1966794,\n",
       " 'readOnly': False,\n",
       " 'secret': '513fa5507836712054b9ba2db57d8e19',\n",
       " 'userId': 77}"
      ]
     },
     "execution_count": 27,
     "metadata": {},
     "output_type": "execute_result"
    }
   ],
   "source": [
    "output.login()"
   ]
  },
  {
   "cell_type": "markdown",
   "metadata": {
    "pycharm": {
     "name": "#%% md\n"
    }
   },
   "source": [
    "And now, all the methods from BBData are at your disposal with the following nomenclature:\n",
    "\n",
    "```\n",
    "<bbdata-api>.<base-route>.<http-method>_<sub-route>\n",
    "```\n",
    "\n",
    "where \n",
    "- `bbdata-api` can be `output` or `input`\n",
    "- `base-route` are the different routes listed in https://bbdata.daplab.ch/api/\n",
    "- `http-method` and `sub-route` are used together to create a function name in the form of e.g. `get_comments`.\n",
    "\n",
    "For sure, if you have a doubt about the available methods for a given route, check your auto-completion and read the method's class."
   ]
  },
  {
   "cell_type": "markdown",
   "metadata": {},
   "source": [
    "When you finished, log out:"
   ]
  },
  {
   "cell_type": "code",
   "execution_count": 28,
   "metadata": {},
   "outputs": [
    {
     "data": {
      "text/plain": [
       "''"
      ]
     },
     "execution_count": 28,
     "metadata": {},
     "output_type": "execute_result"
    }
   ],
   "source": [
    "output.logout()"
   ]
  },
  {
   "cell_type": "markdown",
   "metadata": {},
   "source": [
    "## A few examples"
   ]
  },
  {
   "cell_type": "code",
   "execution_count": 29,
   "metadata": {},
   "outputs": [],
   "source": [
    "output.login();"
   ]
  },
  {
   "cell_type": "markdown",
   "metadata": {},
   "source": [
    "### Me"
   ]
  },
  {
   "cell_type": "code",
   "execution_count": 30,
   "metadata": {},
   "outputs": [
    {
     "data": {
      "text/plain": [
       "{'creationdate': '2019-09-09T15:11:26.000',\n",
       " 'email': 'frederic.montet@hefr.ch',\n",
       " 'id': 77,\n",
       " 'name': 'frederic.montet'}"
      ]
     },
     "execution_count": 30,
     "metadata": {},
     "output_type": "execute_result"
    }
   ],
   "source": [
    "# Get your profile\n",
    "output.me.get()"
   ]
  },
  {
   "cell_type": "code",
   "execution_count": 31,
   "metadata": {},
   "outputs": [
    {
     "data": {
      "text/plain": [
       "[{'id': 4, 'name': 'BlueHall'},\n",
       " {'id': 53, 'name': 'MultiConfort'},\n",
       " {'id': 46, 'name': 'CityPulse'}]"
      ]
     },
     "execution_count": 31,
     "metadata": {},
     "output_type": "execute_result"
    }
   ],
   "source": [
    "# Get your object groups\n",
    "output.me.get_groups()"
   ]
  },
  {
   "cell_type": "markdown",
   "metadata": {},
   "source": [
    "### Info"
   ]
  },
  {
   "cell_type": "code",
   "execution_count": 32,
   "metadata": {
    "pycharm": {
     "is_executing": false,
     "name": "#%%\n"
    }
   },
   "outputs": [
    {
     "data": {
      "text/plain": [
       "{'build_date': '2019-05-16T06:52',\n",
       " 'server_time': '2019-10-08T10:54:45.636',\n",
       " 'version': '0.4.2.6'}"
      ]
     },
     "execution_count": 32,
     "metadata": {},
     "output_type": "execute_result"
    }
   ],
   "source": [
    "# Get server informations\n",
    "output.info.get()"
   ]
  },
  {
   "cell_type": "markdown",
   "metadata": {},
   "source": [
    "### Units"
   ]
  },
  {
   "cell_type": "code",
   "execution_count": 33,
   "metadata": {
    "pycharm": {
     "is_executing": false,
     "name": "#%%\n"
    }
   },
   "outputs": [
    {
     "data": {
      "text/plain": [
       "[{'type': 'string', 'name': 'none', 'symbol': ' '},\n",
       " {'type': 'float', 'name': 'percentage', 'symbol': '%'},\n",
       " {'type': 'float', 'name': 'ampere', 'symbol': 'A'},\n",
       " {'type': 'float', 'name': 'amp\\x9d\\x9dre AC', 'symbol': 'AAC'},\n",
       " {'type': 'float', 'name': 'courant DC', 'symbol': 'ADC'}]"
      ]
     },
     "execution_count": 33,
     "metadata": {},
     "output_type": "execute_result"
    }
   ],
   "source": [
    "# Get the 5 first units\n",
    "output.units.get()[:5]"
   ]
  },
  {
   "cell_type": "markdown",
   "metadata": {},
   "source": [
    "### Object Groups"
   ]
  },
  {
   "cell_type": "code",
   "execution_count": 34,
   "metadata": {},
   "outputs": [
    {
     "data": {
      "text/plain": [
       "[{'id': 3, 'name': 'Box 19/20/21', 'owner': {'id': 4, 'name': 'BlueHall'}},\n",
       " {'id': 28, 'name': 'Bureau 37B', 'owner': {'id': 12, 'name': 'test JPB'}},\n",
       " {'id': 31, 'name': 'LIER Compteur', 'owner': {'id': 4, 'name': 'BlueHall'}},\n",
       " {'id': 32, 'name': 'LIER Capteur', 'owner': {'id': 4, 'name': 'BlueHall'}},\n",
       " {'id': 33, 'name': 'LIER - PAC', 'owner': {'id': 4, 'name': 'BlueHall'}},\n",
       " {'id': 36, 'name': 'Box 37/38B', 'owner': {'id': 4, 'name': 'BlueHall'}},\n",
       " {'id': 37, 'name': 'Contacteurs', 'owner': {'id': 4, 'name': 'BlueHall'}},\n",
       " {'id': 38, 'name': 'Box 22/23/24B', 'owner': {'id': 4, 'name': 'BlueHall'}},\n",
       " {'id': 42, 'name': 'EPFL_JT', 'owner': {'id': 4, 'name': 'BlueHall'}},\n",
       " {'id': 52, 'name': 'Plug', 'owner': {'id': 16, 'name': 'the4bees'}},\n",
       " {'id': 68, 'name': 'test', 'owner': {'id': 2, 'name': 'bb'}},\n",
       " {'id': 94, 'name': 'CityPulse_PS', 'owner': {'id': 46, 'name': 'CityPulse'}}]"
      ]
     },
     "execution_count": 34,
     "metadata": {},
     "output_type": "execute_result"
    }
   ],
   "source": [
    "# Get all object groups\n",
    "output.object_groups.get_all() "
   ]
  },
  {
   "cell_type": "code",
   "execution_count": 35,
   "metadata": {},
   "outputs": [
    {
     "data": {
      "text/plain": [
       "{'id': 3,\n",
       " 'name': 'Box 19/20/21',\n",
       " 'owner': {'id': 4, 'name': 'BlueHall'},\n",
       " 'objects': [{'creationdate': '2019-08-20T15:08:24.000',\n",
       "   'description': '2/4/148:Energie Halle Bleue 2EME Boxs',\n",
       "   'disabled': False,\n",
       "   'id': 2902,\n",
       "   'name': 'HB/floor2/22-23C/Prises_Power_Tot',\n",
       "   'owner': {'id': 4, 'name': 'BlueHall'},\n",
       "   'tags': [],\n",
       "   'unit': {'type': 'float', 'name': 'power', 'symbol': 'W'}},\n",
       "  {'creationdate': '2019-08-20T15:08:36.000',\n",
       "   'description': '2/4/154:Energie Halle Bleue 2EME Boxs',\n",
       "   'disabled': False,\n",
       "   'id': 2920,\n",
       "   'name': 'HB/floor2/22-23C/Lumières_Power_Tot',\n",
       "   'owner': {'id': 4, 'name': 'BlueHall'},\n",
       "   'tags': [],\n",
       "   'unit': {'type': 'float', 'name': 'power', 'symbol': 'W'}},\n",
       "  {'creationdate': '2019-08-20T14:47:45.000',\n",
       "   'description': '2/2/121:Energie Halle Bleue 1ER Boxs (1B à 38B)',\n",
       "   'disabled': False,\n",
       "   'id': 3064,\n",
       "   'name': 'HB/floor1/19-20-21B/Energie_active',\n",
       "   'owner': {'id': 4, 'name': 'BlueHall'},\n",
       "   'tags': [],\n",
       "   'unit': {'type': 'float', 'name': 'energy', 'symbol': 'Wh'}},\n",
       "  {'creationdate': '2019-08-20T14:48:04.000',\n",
       "   'description': '2/2/122:Energie Halle Bleue 1ER Boxs (1B à 38B)',\n",
       "   'disabled': False,\n",
       "   'id': 3066,\n",
       "   'name': 'HB/floor1/19-20-21B/Puissance_active_tot',\n",
       "   'owner': {'id': 4, 'name': 'BlueHall'},\n",
       "   'tags': [],\n",
       "   'unit': {'type': 'float', 'name': 'power', 'symbol': 'W'}},\n",
       "  {'creationdate': '2019-08-20T14:48:16.000',\n",
       "   'description': '2/2/125:Energie Halle Bleue 1ER Boxs (1B à 38B)',\n",
       "   'disabled': False,\n",
       "   'id': 3068,\n",
       "   'name': 'HB/floor1/19-20-21B/Puissance_L3',\n",
       "   'owner': {'id': 4, 'name': 'BlueHall'},\n",
       "   'tags': [],\n",
       "   'unit': {'type': 'float', 'name': 'power', 'symbol': 'W'}},\n",
       "  {'creationdate': '2019-08-20T14:48:27.000',\n",
       "   'description': '2/2/123:Energie Halle Bleue 1ER Boxs (1B à 38B)',\n",
       "   'disabled': False,\n",
       "   'id': 3070,\n",
       "   'name': 'HB/floor1/19-20-21B/Puissance_L1',\n",
       "   'owner': {'id': 4, 'name': 'BlueHall'},\n",
       "   'tags': [],\n",
       "   'unit': {'type': 'float', 'name': 'power', 'symbol': 'W'}},\n",
       "  {'creationdate': '2019-08-20T14:48:36.000',\n",
       "   'description': '2/2/124:Energie Halle Bleue 1ER Boxs (1B à 38B)',\n",
       "   'disabled': False,\n",
       "   'id': 3071,\n",
       "   'name': 'HB/floor1/19-20-21B/Puissance_L2',\n",
       "   'owner': {'id': 4, 'name': 'BlueHall'},\n",
       "   'tags': [],\n",
       "   'unit': {'type': 'float', 'name': 'power', 'symbol': 'W'}},\n",
       "  {'creationdate': '2019-08-20T14:48:48.000',\n",
       "   'description': '2/2/129:Energie Halle Bleue 1ER Boxs (1B à 38B)',\n",
       "   'disabled': False,\n",
       "   'id': 3072,\n",
       "   'name': 'HB/floor1/19-20-21B/Prises_Power_L1',\n",
       "   'owner': {'id': 4, 'name': 'BlueHall'},\n",
       "   'tags': [],\n",
       "   'unit': {'type': 'float', 'name': 'power', 'symbol': 'W'}},\n",
       "  {'creationdate': '2019-08-20T14:48:59.000',\n",
       "   'description': '2/2/127:Energie Halle Bleue 1ER Boxs (1B à 38B)',\n",
       "   'disabled': False,\n",
       "   'id': 3074,\n",
       "   'name': 'HB/floor1/19-20-21B/Prises_Energy_Tot',\n",
       "   'owner': {'id': 4, 'name': 'BlueHall'},\n",
       "   'tags': [],\n",
       "   'unit': {'type': 'float', 'name': 'energy', 'symbol': 'Wh'}},\n",
       "  {'creationdate': '2019-08-20T14:49:12.000',\n",
       "   'description': '2/2/128:Energie Halle Bleue 1ER Boxs (1B à 38B)',\n",
       "   'disabled': False,\n",
       "   'id': 3076,\n",
       "   'name': 'HB/floor1/19-20-21B/Prises_Power_Tot',\n",
       "   'owner': {'id': 4, 'name': 'BlueHall'},\n",
       "   'tags': [],\n",
       "   'unit': {'type': 'float', 'name': 'power', 'symbol': 'W'}},\n",
       "  {'creationdate': '2019-08-20T14:49:22.000',\n",
       "   'description': '2/2/133:Energie Halle Bleue 1ER Boxs (1B à 38B)',\n",
       "   'disabled': False,\n",
       "   'id': 3083,\n",
       "   'name': 'HB/floor1/19-20-21B/Lumières_Energy_Tot',\n",
       "   'owner': {'id': 4, 'name': 'BlueHall'},\n",
       "   'tags': [],\n",
       "   'unit': {'type': 'float', 'name': 'energy', 'symbol': 'Wh'}},\n",
       "  {'creationdate': '2019-08-20T14:49:35.000',\n",
       "   'description': '2/2/130:Energie Halle Bleue 1ER Boxs (1B à 38B)',\n",
       "   'disabled': False,\n",
       "   'id': 3085,\n",
       "   'name': 'HB/floor1/19-20-21B/Prises_Power_L2',\n",
       "   'owner': {'id': 4, 'name': 'BlueHall'},\n",
       "   'tags': [],\n",
       "   'unit': {'type': 'float', 'name': 'power', 'symbol': 'W'}},\n",
       "  {'creationdate': '2019-08-20T14:49:48.000',\n",
       "   'description': '2/2/131:Energie Halle Bleue 1ER Boxs (1B à 38B)',\n",
       "   'disabled': False,\n",
       "   'id': 3087,\n",
       "   'name': 'HB/floor1/19-20-21B/Prises_Power_L3',\n",
       "   'owner': {'id': 4, 'name': 'BlueHall'},\n",
       "   'tags': [],\n",
       "   'unit': {'type': 'float', 'name': 'power', 'symbol': 'W'}},\n",
       "  {'creationdate': '2019-08-20T14:49:59.000',\n",
       "   'description': '2/2/136:Energie Halle Bleue 1ER Boxs (1B à 38B)',\n",
       "   'disabled': False,\n",
       "   'id': 3088,\n",
       "   'name': 'HB/floor1/19-20-21B/Lumières_Power_L2',\n",
       "   'owner': {'id': 4, 'name': 'BlueHall'},\n",
       "   'tags': [],\n",
       "   'unit': {'type': 'float', 'name': 'power', 'symbol': 'W'}},\n",
       "  {'creationdate': '2019-08-20T14:50:10.000',\n",
       "   'description': '2/2/137:Energie Halle Bleue 1ER Boxs (1B à 38B)',\n",
       "   'disabled': False,\n",
       "   'id': 3089,\n",
       "   'name': 'HB/floor1/19-20-21B/Lumières_Power_L3',\n",
       "   'owner': {'id': 4, 'name': 'BlueHall'},\n",
       "   'tags': [],\n",
       "   'unit': {'type': 'float', 'name': 'power', 'symbol': 'W'}},\n",
       "  {'creationdate': '2019-08-20T14:50:23.000',\n",
       "   'description': '2/2/134:Energie Halle Bleue 1ER Boxs (1B à 38B)',\n",
       "   'disabled': False,\n",
       "   'id': 3090,\n",
       "   'name': 'HB/floor1/19-20-21B/Lumières_Power_Tot',\n",
       "   'owner': {'id': 4, 'name': 'BlueHall'},\n",
       "   'tags': [],\n",
       "   'unit': {'type': 'float', 'name': 'power', 'symbol': 'W'}},\n",
       "  {'creationdate': '2019-08-20T14:50:34.000',\n",
       "   'description': '2/2/135:Energie Halle Bleue 1ER Boxs (1B à 38B)',\n",
       "   'disabled': False,\n",
       "   'id': 3091,\n",
       "   'name': 'HB/floor1/19-20-21B/Lumières_Power_L1',\n",
       "   'owner': {'id': 4, 'name': 'BlueHall'},\n",
       "   'tags': [],\n",
       "   'unit': {'type': 'float', 'name': 'power', 'symbol': 'W'}},\n",
       "  {'creationdate': '2019-08-20T14:54:51.000',\n",
       "   'description': '2/3/28:Energie Halle Bleue 1ER Boxs (2)',\n",
       "   'disabled': False,\n",
       "   'id': 4607,\n",
       "   'name': 'HB/floor1/43-44-45B/Prises_Power_Tot',\n",
       "   'owner': {'id': 4, 'name': 'BlueHall'},\n",
       "   'tags': [],\n",
       "   'unit': {'type': 'float', 'name': 'power', 'symbol': 'W'}},\n",
       "  {'creationdate': '2019-08-20T14:55:13.000',\n",
       "   'description': '2/3/34:Energie Halle Bleue 1ER Boxs (2)',\n",
       "   'disabled': False,\n",
       "   'id': 4613,\n",
       "   'name': 'HB/floor1/43-44-45B/Lumières_Power_Tot',\n",
       "   'owner': {'id': 4, 'name': 'BlueHall'},\n",
       "   'tags': [],\n",
       "   'unit': {'type': 'float', 'name': 'power', 'symbol': 'W'}},\n",
       "  {'creationdate': '2017-01-17T13:44:16.000',\n",
       "   'description': '4/1/102:Contrôles et forçage Détecteurs 1er',\n",
       "   'disabled': False,\n",
       "   'id': 6090,\n",
       "   'name': '20B Etat régulation (Marche = régul)',\n",
       "   'owner': {'id': 4, 'name': 'BlueHall'},\n",
       "   'tags': [],\n",
       "   'unit': {'type': 'bool', 'name': 'state', 'symbol': 'on'}},\n",
       "  {'creationdate': '2017-01-17T13:44:19.000',\n",
       "   'description': '4/1/107:Contrôles et forçage Détecteurs 1er',\n",
       "   'disabled': False,\n",
       "   'id': 6096,\n",
       "   'name': '21B Etat régulation (Marche = régul)',\n",
       "   'owner': {'id': 4, 'name': 'BlueHall'},\n",
       "   'tags': [],\n",
       "   'unit': {'type': 'bool', 'name': 'state', 'symbol': 'on'}},\n",
       "  {'creationdate': '2017-01-17T13:45:17.000',\n",
       "   'description': '4/1/97:Contrôles et forçage Détecteurs 1er',\n",
       "   'disabled': False,\n",
       "   'id': 6247,\n",
       "   'name': '19B Etat régulation (Marche = régul)',\n",
       "   'owner': {'id': 4, 'name': 'BlueHall'},\n",
       "   'tags': [],\n",
       "   'unit': {'type': 'bool', 'name': 'state', 'symbol': 'on'}},\n",
       "  {'creationdate': '2017-02-13T11:04:59.000',\n",
       "   'description': '4/4/1:Contr\\x9d\\x9dles et for\\x9d\\x9dage Contacts portes et fen\\x9d\\x9dtres',\n",
       "   'disabled': False,\n",
       "   'id': 6487,\n",
       "   'name': 'Box 19B P',\n",
       "   'owner': {'id': 4, 'name': 'BlueHall'},\n",
       "   'tags': [],\n",
       "   'unit': {'type': 'bool', 'name': 'state', 'symbol': 'on'}},\n",
       "  {'creationdate': '2017-02-13T11:04:59.000',\n",
       "   'description': '4/4/4:Contr\\x9d\\x9dles et for\\x9d\\x9dage Contacts portes et fen\\x9d\\x9dtres',\n",
       "   'disabled': False,\n",
       "   'id': 6488,\n",
       "   'name': 'Box 20B F',\n",
       "   'owner': {'id': 4, 'name': 'BlueHall'},\n",
       "   'tags': [],\n",
       "   'unit': {'type': 'bool', 'name': 'state', 'symbol': 'on'}},\n",
       "  {'creationdate': '2017-02-13T11:04:59.000',\n",
       "   'description': '4/4/5:Contr\\x9d\\x9dles et for\\x9d\\x9dage Contacts portes et fen\\x9d\\x9dtres',\n",
       "   'disabled': False,\n",
       "   'id': 6489,\n",
       "   'name': 'Box 20B F.P',\n",
       "   'owner': {'id': 4, 'name': 'BlueHall'},\n",
       "   'tags': [],\n",
       "   'unit': {'type': 'bool', 'name': 'state', 'symbol': 'on'}},\n",
       "  {'creationdate': '2017-02-13T11:05:00.000',\n",
       "   'description': '4/4/2:Contr\\x9d\\x9dles et for\\x9d\\x9dage Contacts portes et fen\\x9d\\x9dtres',\n",
       "   'disabled': False,\n",
       "   'id': 6490,\n",
       "   'name': 'Box 19B F',\n",
       "   'owner': {'id': 4, 'name': 'BlueHall'},\n",
       "   'tags': [],\n",
       "   'unit': {'type': 'bool', 'name': 'state', 'symbol': 'on'}},\n",
       "  {'creationdate': '2017-02-13T11:05:00.000',\n",
       "   'description': '4/4/3:Contr\\x9d\\x9dles et for\\x9d\\x9dage Contacts portes et fen\\x9d\\x9dtres',\n",
       "   'disabled': False,\n",
       "   'id': 6491,\n",
       "   'name': 'Box 19B F.P',\n",
       "   'owner': {'id': 4, 'name': 'BlueHall'},\n",
       "   'tags': [],\n",
       "   'unit': {'type': 'bool', 'name': 'state', 'symbol': 'on'}},\n",
       "  {'creationdate': '2017-02-13T11:05:03.000',\n",
       "   'description': '4/4/6:Contr\\x9d\\x9dles et for\\x9d\\x9dage Contacts portes et fen\\x9d\\x9dtres',\n",
       "   'disabled': False,\n",
       "   'id': 6496,\n",
       "   'name': 'Box 21B F',\n",
       "   'owner': {'id': 4, 'name': 'BlueHall'},\n",
       "   'tags': [],\n",
       "   'unit': {'type': 'bool', 'name': 'state', 'symbol': 'on'}},\n",
       "  {'creationdate': '2017-02-13T11:05:04.000',\n",
       "   'description': '4/4/7:Contr\\x9d\\x9dles et for\\x9d\\x9dage Contacts portes et fen\\x9d\\x9dtres',\n",
       "   'disabled': False,\n",
       "   'id': 6499,\n",
       "   'name': 'Box 21B F.P',\n",
       "   'owner': {'id': 4, 'name': 'BlueHall'},\n",
       "   'tags': [],\n",
       "   'unit': {'type': 'bool', 'name': 'state', 'symbol': 'on'}},\n",
       "  {'creationdate': '2017-06-13T13:46:21.000',\n",
       "   'description': 'The4Bees board SN059 - CO2',\n",
       "   'disabled': False,\n",
       "   'id': 6599,\n",
       "   'name': 'The4Bees board SN059 - CO2',\n",
       "   'owner': {'id': 4, 'name': 'BlueHall'},\n",
       "   'tags': [],\n",
       "   'unit': {'type': 'float', 'name': \"qualité d'air\", 'symbol': 'ppm'}},\n",
       "  {'creationdate': '2017-06-13T13:46:34.000',\n",
       "   'description': 'The4Bees board SN056 - CO2',\n",
       "   'disabled': False,\n",
       "   'id': 6600,\n",
       "   'name': 'The4Bees board SN056 - CO2',\n",
       "   'owner': {'id': 4, 'name': 'BlueHall'},\n",
       "   'tags': [],\n",
       "   'unit': {'type': 'float', 'name': \"qualité d'air\", 'symbol': 'ppm'}},\n",
       "  {'creationdate': '2017-06-13T13:47:46.000',\n",
       "   'description': 'The4Bees board SN056 - Temperature',\n",
       "   'disabled': False,\n",
       "   'id': 6604,\n",
       "   'name': 'The4Bees board SN056 - Temperature',\n",
       "   'owner': {'id': 4, 'name': 'BlueHall'},\n",
       "   'tags': [],\n",
       "   'unit': {'type': 'float', 'name': 'degree celsius', 'symbol': '°C'}},\n",
       "  {'creationdate': '2017-06-23T13:35:13.000',\n",
       "   'description': '4/1/104:Contrôles et forçage Détecteurs 1er',\n",
       "   'disabled': False,\n",
       "   'id': 6629,\n",
       "   'name': '20B Température box',\n",
       "   'owner': {'id': 4, 'name': 'BlueHall'},\n",
       "   'tags': [],\n",
       "   'unit': {'type': 'float', 'name': 'degree celsius', 'symbol': '°C'}},\n",
       "  {'creationdate': '2019-08-20T14:50:53.000',\n",
       "   'description': \"Index d'énergie (chaud + froid) du compteur d'énergie des box\\nRegistres 2-3 du compteur\",\n",
       "   'disabled': False,\n",
       "   'id': 6756,\n",
       "   'name': 'HB/floor1/19-20-21B/Index_energie',\n",
       "   'owner': {'id': 4, 'name': 'BlueHall'},\n",
       "   'tags': [],\n",
       "   'unit': {'type': 'float', 'name': 'energy', 'symbol': 'kWh'}},\n",
       "  {'creationdate': '2019-08-20T14:50:44.000',\n",
       "   'description': \"Débit du compteur d'énergie des box \\nRegistres 4-5 du compteur\",\n",
       "   'disabled': False,\n",
       "   'id': 6759,\n",
       "   'name': 'HB/floor1/19-20-21B/Débit_compteur_energie',\n",
       "   'owner': {'id': 4, 'name': 'BlueHall'},\n",
       "   'tags': [],\n",
       "   'unit': {'type': 'float', 'name': 'debit', 'symbol': 'm3/h'}},\n",
       "  {'creationdate': '2019-08-20T14:51:02.000',\n",
       "   'description': \"Puissance du compteur d'énergie des box\\nRegistres 6-7 du compteur\",\n",
       "   'disabled': False,\n",
       "   'id': 6760,\n",
       "   'name': 'HB/floor1/19-20-21B/Puissance_compteur_energie',\n",
       "   'owner': {'id': 4, 'name': 'BlueHall'},\n",
       "   'tags': [],\n",
       "   'unit': {'type': 'float', 'name': 'power', 'symbol': 'kW'}},\n",
       "  {'creationdate': '2019-08-20T14:51:15.000',\n",
       "   'description': \"Température de départ du compteur d'énergie des box \\nRegistres 8 du compteur\",\n",
       "   'disabled': False,\n",
       "   'id': 6761,\n",
       "   'name': 'HB/floor1/19-20-21B/Temperature_depart_compteur_energie',\n",
       "   'owner': {'id': 4, 'name': 'BlueHall'},\n",
       "   'tags': [],\n",
       "   'unit': {'type': 'float', 'name': 'degree celsius', 'symbol': '°C'}},\n",
       "  {'creationdate': '2019-08-20T14:51:29.000',\n",
       "   'description': \"Température de retour du compteur d'énergie des box \\nRegistres 9 du compteur\",\n",
       "   'disabled': False,\n",
       "   'id': 6762,\n",
       "   'name': 'HB/floor1/19-20-21B/Temperature_retour_compteur_energie',\n",
       "   'owner': {'id': 4, 'name': 'BlueHall'},\n",
       "   'tags': [],\n",
       "   'unit': {'type': 'float', 'name': 'degree celsius', 'symbol': '°C'}},\n",
       "  {'creationdate': '2019-08-20T14:51:42.000',\n",
       "   'description': \"Delta température départ/retour du compteur d'énergie des box \\nRegistres 10 du compteur\",\n",
       "   'disabled': False,\n",
       "   'id': 6763,\n",
       "   'name': 'HB/floor1/19-20-21B/Delta_temperature_compteur_energie',\n",
       "   'owner': {'id': 4, 'name': 'BlueHall'},\n",
       "   'tags': [],\n",
       "   'unit': {'type': 'float', 'name': 'degree celsius', 'symbol': '°C'}},\n",
       "  {'creationdate': '2017-11-08T15:18:09.000',\n",
       "   'disabled': False,\n",
       "   'id': 6841,\n",
       "   'name': 'CO2 rate visualization',\n",
       "   'owner': {'id': 4, 'name': 'BlueHall'},\n",
       "   'tags': [],\n",
       "   'unit': {'type': 'int', 'name': 'free number', 'symbol': 'none'}},\n",
       "  {'creationdate': '2017-11-10T10:15:51.000',\n",
       "   'disabled': False,\n",
       "   'id': 6842,\n",
       "   'name': 'Lights rate visualization',\n",
       "   'owner': {'id': 4, 'name': 'BlueHall'},\n",
       "   'tags': [],\n",
       "   'unit': {'type': 'int', 'name': 'free number', 'symbol': 'none'}},\n",
       "  {'creationdate': '2018-02-09T09:29:39.000',\n",
       "   'description': \"THE4BEES --> how many time the '+' button was clicked on the dashboard to visualise the comparison panel.\",\n",
       "   'disabled': False,\n",
       "   'id': 6845,\n",
       "   'name': 'Comparison rate visualization',\n",
       "   'owner': {'id': 4, 'name': 'BlueHall'},\n",
       "   'tags': [],\n",
       "   'unit': {'type': 'int', 'name': 'free number', 'symbol': 'none'}},\n",
       "  {'creationdate': '2018-03-01T13:48:00.000',\n",
       "   'disabled': False,\n",
       "   'id': 6858,\n",
       "   'name': 'Energissima_power_light1',\n",
       "   'owner': {'id': 4, 'name': 'BlueHall'},\n",
       "   'tags': [{'tag': 'stand'}],\n",
       "   'unit': {'type': 'float', 'name': 'power', 'symbol': 'W'}},\n",
       "  {'creationdate': '2018-03-02T07:13:20.000',\n",
       "   'disabled': False,\n",
       "   'id': 6859,\n",
       "   'name': 'Energissima_power_light2',\n",
       "   'owner': {'id': 4, 'name': 'BlueHall'},\n",
       "   'tags': [{'tag': 'stand'}],\n",
       "   'unit': {'type': 'float', 'name': 'power', 'symbol': 'W'}},\n",
       "  {'creationdate': '2018-03-02T07:13:38.000',\n",
       "   'disabled': False,\n",
       "   'id': 6860,\n",
       "   'name': 'Energissima_power_light3',\n",
       "   'owner': {'id': 4, 'name': 'BlueHall'},\n",
       "   'tags': [{'tag': 'stand'}],\n",
       "   'unit': {'type': 'float', 'name': 'power', 'symbol': 'W'}},\n",
       "  {'creationdate': '2018-03-02T07:14:09.000',\n",
       "   'disabled': False,\n",
       "   'id': 6861,\n",
       "   'name': 'Energissima_power_TV',\n",
       "   'owner': {'id': 4, 'name': 'BlueHall'},\n",
       "   'tags': [{'tag': 'stand'}],\n",
       "   'unit': {'type': 'float', 'name': 'power', 'symbol': 'W'}},\n",
       "  {'creationdate': '2018-03-02T07:14:42.000',\n",
       "   'disabled': False,\n",
       "   'id': 6862,\n",
       "   'name': 'Energissima_power_coffee',\n",
       "   'owner': {'id': 4, 'name': 'BlueHall'},\n",
       "   'tags': [{'tag': 'stand'}, {'tag': 'test'}],\n",
       "   'unit': {'type': 'float', 'name': 'power', 'symbol': 'W'}},\n",
       "  {'creationdate': '2019-08-20T14:55:18.000',\n",
       "   'disabled': False,\n",
       "   'id': 6864,\n",
       "   'name': 'HB/floor1/43-44-45B/CO2',\n",
       "   'owner': {'id': 4, 'name': 'BlueHall'},\n",
       "   'tags': [],\n",
       "   'unit': {'type': 'float', 'name': \"qualité d'air\", 'symbol': 'ppm'}},\n",
       "  {'creationdate': '2019-08-20T14:51:55.000',\n",
       "   'disabled': False,\n",
       "   'id': 6865,\n",
       "   'name': 'HB/floor1/19-20-21B/TVOC(Arduino_SensorBox)',\n",
       "   'owner': {'id': 4, 'name': 'BlueHall'},\n",
       "   'tags': [],\n",
       "   'unit': {'type': 'float', 'name': 'TVOC', 'symbol': 'ppb'}},\n",
       "  {'creationdate': '2018-07-18T14:20:17.000',\n",
       "   'disabled': False,\n",
       "   'id': 8236,\n",
       "   'name': 'o. 1000 EN',\n",
       "   'owner': {'id': 4, 'name': 'BlueHall'},\n",
       "   'tags': [],\n",
       "   'unit': {'type': 'float', 'name': 'hours', 'symbol': 'h'}},\n",
       "  {'creationdate': '2018-07-19T07:57:06.000',\n",
       "   'disabled': False,\n",
       "   'id': 8237,\n",
       "   'name': 'heating time open windows EN',\n",
       "   'owner': {'id': 4, 'name': 'BlueHall'},\n",
       "   'tags': [],\n",
       "   'unit': {'type': 'float', 'name': 'hours', 'symbol': 'h'}}]}"
      ]
     },
     "execution_count": 35,
     "metadata": {},
     "output_type": "execute_result"
    }
   ],
   "source": [
    "# Get the object group with id 3\n",
    "output.object_groups.get(3)"
   ]
  },
  {
   "cell_type": "markdown",
   "metadata": {},
   "source": [
    "### Objects"
   ]
  },
  {
   "cell_type": "code",
   "execution_count": 37,
   "metadata": {
    "pycharm": {
     "is_executing": false,
     "name": "#%%\n"
    }
   },
   "outputs": [
    {
     "data": {
      "text/plain": [
       "{'creationdate': '2016-09-05T12:17:20.000',\n",
       " 'description': '1/5/94:Lumières Halle Bleu 1er Box',\n",
       " 'disabled': False,\n",
       " 'id': 2648,\n",
       " 'name': '23B Etat_Box Leds value',\n",
       " 'owner': {'id': 4, 'name': 'BlueHall'},\n",
       " 'tags': [],\n",
       " 'unit': {'type': 'float', 'name': 'percentage', 'symbol': '%'}}"
      ]
     },
     "execution_count": 37,
     "metadata": {},
     "output_type": "execute_result"
    }
   ],
   "source": [
    "output.objects.get(2648)"
   ]
  },
  {
   "cell_type": "code",
   "execution_count": 38,
   "metadata": {
    "pycharm": {
     "is_executing": false,
     "name": "#%%\n"
    }
   },
   "outputs": [
    {
     "data": {
      "text/plain": [
       "[{'id': 18, 'objectId': 2648, 'token': 'cc8058b11dce2c122919253439d0f9a0'}]"
      ]
     },
     "execution_count": 38,
     "metadata": {},
     "output_type": "execute_result"
    }
   ],
   "source": [
    "output.objects.get_tokens(2648)"
   ]
  },
  {
   "cell_type": "markdown",
   "metadata": {
    "pycharm": {
     "name": "#%% md\n"
    }
   },
   "source": [
    "### Values"
   ]
  },
  {
   "cell_type": "code",
   "execution_count": 46,
   "metadata": {
    "pycharm": {
     "is_executing": false,
     "name": "#%%\n"
    }
   },
   "outputs": [
    {
     "data": {
      "text/plain": [
       "[{'objectId': 2649,\n",
       "  'unit': {'name': 'power', 'symbol': 'W', 'type': 'float'},\n",
       "  'values': [{'timestamp': '2018-06-02T19:11:50.840', 'value': '0.0'},\n",
       "   {'timestamp': '2018-06-02T19:26:51.122', 'value': '0.0'},\n",
       "   {'timestamp': '2018-06-02T19:41:50.931', 'value': '0.0'},\n",
       "   {'timestamp': '2018-06-02T19:56:50.913', 'value': '0.0'},\n",
       "   {'timestamp': '2018-06-02T20:11:50.937', 'value': '0.0'},\n",
       "   {'timestamp': '2018-06-02T20:26:50.905', 'value': '0.0'},\n",
       "   {'timestamp': '2018-06-02T20:41:50.742', 'value': '0.0'},\n",
       "   {'timestamp': '2018-06-02T20:56:51.289', 'value': '0.0'},\n",
       "   {'timestamp': '2018-06-02T21:11:51.016', 'value': '0.0'},\n",
       "   {'timestamp': '2018-06-02T21:26:50.371', 'value': '0.0'},\n",
       "   {'timestamp': '2018-06-02T21:41:50.684', 'value': '0.0'},\n",
       "   {'timestamp': '2018-06-02T21:56:51.081', 'value': '0.0'}]}]"
      ]
     },
     "execution_count": 46,
     "metadata": {},
     "output_type": "execute_result"
    }
   ],
   "source": [
    "# Also try output.values.hours(...) and output.values.quarters(...) \n",
    "output.values.get(\n",
    "    2649,\n",
    "    \"2018-06-02T19:00\",\n",
    "    \"2018-06-02T22:00\",\n",
    ")\n"
   ]
  },
  {
   "cell_type": "code",
   "execution_count": 47,
   "metadata": {
    "pycharm": {
     "is_executing": false,
     "name": "#%%\n"
    }
   },
   "outputs": [],
   "source": [
    "output.logout();"
   ]
  },
  {
   "cell_type": "code",
   "execution_count": 52,
   "metadata": {
    "pycharm": {
     "is_executing": false,
     "name": "#%%\n"
    }
   },
   "outputs": [
    {
     "ename": "UnknownResponseException",
     "evalue": "WTF?!",
     "output_type": "error",
     "traceback": [
      "\u001b[0;31m---------------------------------------------------------------------------\u001b[0m",
      "\u001b[0;31mUnknownResponseException\u001b[0m                  Traceback (most recent call last)",
      "\u001b[0;32m<ipython-input-52-47eabb93de93>\u001b[0m in \u001b[0;36m<module>\u001b[0;34m\u001b[0m\n\u001b[1;32m      1\u001b[0m \u001b[0;31m# Check if the logout was successful\u001b[0m\u001b[0;34m\u001b[0m\u001b[0;34m\u001b[0m\u001b[0;34m\u001b[0m\u001b[0m\n\u001b[0;32m----> 2\u001b[0;31m \u001b[0moutput\u001b[0m\u001b[0;34m.\u001b[0m\u001b[0mme\u001b[0m\u001b[0;34m.\u001b[0m\u001b[0mget\u001b[0m\u001b[0;34m(\u001b[0m\u001b[0;34m)\u001b[0m\u001b[0;34m\u001b[0m\u001b[0;34m\u001b[0m\u001b[0m\n\u001b[0m",
      "\u001b[0;32m~/src/bbdata-python/bbdata/output/me.py\u001b[0m in \u001b[0;36mget\u001b[0;34m(self)\u001b[0m\n\u001b[1;32m     21\u001b[0m         \u001b[0murl\u001b[0m \u001b[0;34m=\u001b[0m \u001b[0moutput_api_url\u001b[0m \u001b[0;34m+\u001b[0m \u001b[0mself\u001b[0m\u001b[0;34m.\u001b[0m\u001b[0mbase_path\u001b[0m\u001b[0;34m\u001b[0m\u001b[0;34m\u001b[0m\u001b[0m\n\u001b[1;32m     22\u001b[0m         \u001b[0mr\u001b[0m \u001b[0;34m=\u001b[0m \u001b[0mrequests\u001b[0m\u001b[0;34m.\u001b[0m\u001b[0mget\u001b[0m\u001b[0;34m(\u001b[0m\u001b[0murl\u001b[0m\u001b[0;34m,\u001b[0m \u001b[0mheaders\u001b[0m\u001b[0;34m=\u001b[0m\u001b[0mself\u001b[0m\u001b[0;34m.\u001b[0m\u001b[0mauth\u001b[0m\u001b[0;34m.\u001b[0m\u001b[0mheaders\u001b[0m\u001b[0;34m)\u001b[0m\u001b[0;34m\u001b[0m\u001b[0;34m\u001b[0m\u001b[0m\n\u001b[0;32m---> 23\u001b[0;31m         \u001b[0;32mreturn\u001b[0m \u001b[0mhandle_response\u001b[0m\u001b[0;34m(\u001b[0m\u001b[0mr\u001b[0m\u001b[0;34m.\u001b[0m\u001b[0mstatus_code\u001b[0m\u001b[0;34m,\u001b[0m \u001b[0mr\u001b[0m\u001b[0;34m.\u001b[0m\u001b[0mjson\u001b[0m\u001b[0;34m(\u001b[0m\u001b[0;34m)\u001b[0m\u001b[0;34m)\u001b[0m\u001b[0;34m\u001b[0m\u001b[0;34m\u001b[0m\u001b[0m\n\u001b[0m\u001b[1;32m     24\u001b[0m \u001b[0;34m\u001b[0m\u001b[0m\n\u001b[1;32m     25\u001b[0m     \u001b[0;32mdef\u001b[0m \u001b[0mget_groups\u001b[0m\u001b[0;34m(\u001b[0m\u001b[0mself\u001b[0m\u001b[0;34m,\u001b[0m \u001b[0madmin\u001b[0m\u001b[0;34m=\u001b[0m\u001b[0;32mFalse\u001b[0m\u001b[0;34m)\u001b[0m\u001b[0;34m:\u001b[0m\u001b[0;34m\u001b[0m\u001b[0;34m\u001b[0m\u001b[0m\n",
      "\u001b[0;32m~/src/bbdata-python/bbdata/util.py\u001b[0m in \u001b[0;36mhandle_response\u001b[0;34m(status_code, return_value)\u001b[0m\n\u001b[1;32m     18\u001b[0m         \u001b[0;32mreturn\u001b[0m \u001b[0mreturn_value\u001b[0m\u001b[0;34m\u001b[0m\u001b[0;34m\u001b[0m\u001b[0m\n\u001b[1;32m     19\u001b[0m     \u001b[0;32melse\u001b[0m\u001b[0;34m:\u001b[0m\u001b[0;34m\u001b[0m\u001b[0;34m\u001b[0m\u001b[0m\n\u001b[0;32m---> 20\u001b[0;31m         \u001b[0mhandle_non_ok_status\u001b[0m\u001b[0;34m(\u001b[0m\u001b[0mstatus_code\u001b[0m\u001b[0;34m)\u001b[0m\u001b[0;34m\u001b[0m\u001b[0;34m\u001b[0m\u001b[0m\n\u001b[0m\u001b[1;32m     21\u001b[0m \u001b[0;34m\u001b[0m\u001b[0m\n\u001b[1;32m     22\u001b[0m \u001b[0;34m\u001b[0m\u001b[0m\n",
      "\u001b[0;32m~/src/bbdata-python/bbdata/util.py\u001b[0m in \u001b[0;36mhandle_non_ok_status\u001b[0;34m(status_code)\u001b[0m\n\u001b[1;32m     39\u001b[0m         \u001b[0;32mraise\u001b[0m \u001b[0mResourceException\u001b[0m\u001b[0;34m(\u001b[0m\u001b[0;34m\"An error 404 was thrown\"\u001b[0m\u001b[0;34m)\u001b[0m\u001b[0;34m\u001b[0m\u001b[0;34m\u001b[0m\u001b[0m\n\u001b[1;32m     40\u001b[0m     \u001b[0;32melse\u001b[0m\u001b[0;34m:\u001b[0m\u001b[0;34m\u001b[0m\u001b[0;34m\u001b[0m\u001b[0m\n\u001b[0;32m---> 41\u001b[0;31m         \u001b[0;32mraise\u001b[0m \u001b[0mUnknownResponseException\u001b[0m\u001b[0;34m(\u001b[0m\u001b[0;34m\"WTF?!\"\u001b[0m\u001b[0;34m)\u001b[0m\u001b[0;34m\u001b[0m\u001b[0;34m\u001b[0m\u001b[0m\n\u001b[0m",
      "\u001b[0;31mUnknownResponseException\u001b[0m: WTF?!"
     ]
    }
   ],
   "source": [
    "# Check if the logout was successful\n",
    "output.me.get()"
   ]
  },
  {
   "cell_type": "markdown",
   "metadata": {},
   "source": [
    "## Questions\n",
    "\n",
    "If you have any questions or remarks, don't hesitate to contact the maintainers:\n",
    "  - Frédéric Montet at frederic.montet@hefr.ch\n",
    "  - Lorenz Rychener at"
   ]
  }
 ],
 "metadata": {
  "kernelspec": {
   "display_name": "Python 3",
   "language": "python",
   "name": "python3"
  },
  "language_info": {
   "codemirror_mode": {
    "name": "ipython",
    "version": 3
   },
   "file_extension": ".py",
   "mimetype": "text/x-python",
   "name": "python",
   "nbconvert_exporter": "python",
   "pygments_lexer": "ipython3",
   "version": "3.7.4"
  },
  "pycharm": {
   "stem_cell": {
    "cell_type": "raw",
    "metadata": {
     "collapsed": false
    },
    "source": []
   }
  }
 },
 "nbformat": 4,
 "nbformat_minor": 4
}
