{
 "cells": [
  {
   "cell_type": "code",
   "execution_count": 2,
   "metadata": {
    "pycharm": {
     "is_executing": false,
     "name": "#%%\n"
    }
   },
   "outputs": [
    {
     "name": "stdout",
     "text": [
      "Welcome frederic.montet\n"
     ],
     "output_type": "stream"
    }
   ],
   "source": [
    "from bbdata import output\n"
   ]
  },
  {
   "cell_type": "markdown",
   "source": [
    "## Output API\n"
   ],
   "metadata": {
    "collapsed": false,
    "pycharm": {
     "name": "#%% md\n"
    }
   }
  },
  {
   "cell_type": "markdown",
   "source": [
    "### Login (Auth)"
   ],
   "metadata": {
    "collapsed": false
   }
  },
  {
   "cell_type": "code",
   "execution_count": 3,
   "outputs": [
    {
     "data": {
      "text/plain": "{'description': 'auto_login',\n 'expirationdate': '2019-10-03T00:27:33.216',\n 'id': 1966691,\n 'readOnly': False,\n 'secret': '5f8cec3d6035cd3c8a9b57669de3dfde',\n 'userId': 77}"
     },
     "metadata": {},
     "output_type": "execute_result",
     "execution_count": 3
    }
   ],
   "source": [
    "output.login()\n"
   ],
   "metadata": {
    "collapsed": false,
    "pycharm": {
     "name": "#%%\n",
     "is_executing": false
    }
   }
  },
  {
   "cell_type": "markdown",
   "source": [
    "### Info"
   ],
   "metadata": {
    "collapsed": false,
    "pycharm": {
     "name": "#%% md\n"
    }
   }
  },
  {
   "cell_type": "code",
   "execution_count": 3,
   "outputs": [
    {
     "data": {
      "text/plain": "{'build_date': '2019-05-16T06:52',\n 'server_time': '2019-10-02T07:35:17.449',\n 'version': '0.4.2.6'}"
     },
     "metadata": {},
     "output_type": "execute_result",
     "execution_count": 3
    }
   ],
   "source": [
    "output.info.get()"
   ],
   "metadata": {
    "collapsed": false,
    "pycharm": {
     "name": "#%%\n",
     "is_executing": false
    }
   }
  },
  {
   "cell_type": "markdown",
   "source": [
    "### Units"
   ],
   "metadata": {
    "collapsed": false,
    "pycharm": {
     "name": "#%% md\n"
    }
   }
  },
  {
   "cell_type": "code",
   "execution_count": 4,
   "outputs": [
    {
     "data": {
      "text/plain": "[{'type': 'string', 'name': 'none', 'symbol': ' '},\n {'type': 'float', 'name': 'percentage', 'symbol': '%'},\n {'type': 'float', 'name': 'ampere', 'symbol': 'A'},\n {'type': 'float', 'name': 'amp\\x9d\\x9dre AC', 'symbol': 'AAC'},\n {'type': 'float', 'name': 'courant DC', 'symbol': 'ADC'},\n {'type': 'float', 'name': 'degree celsius C', 'symbol': 'C'},\n {'type': 'string', 'name': 'free text', 'symbol': 'char'},\n {'type': 'float', 'name': 'Facteur de puissance', 'symbol': 'cos ?'},\n {'type': 'float', 'name': 'Direction', 'symbol': 'Degree'},\n {'type': 'int', 'name': 'enumerate', 'symbol': 'enum'},\n {'type': 'float', 'name': 'hours', 'symbol': 'h'},\n {'type': 'bool', 'name': 'presence', 'symbol': 'Here'},\n {'type': 'float', 'name': 'frequence', 'symbol': 'Hz'},\n {'type': 'float', 'name': 'GWP', 'symbol': 'kCO2eq/kWh'},\n {'type': 'float', 'name': 'speed[km/h]', 'symbol': 'km/h'},\n {'type': 'float', 'name': 'kilo volt ampere', 'symbol': 'kVA'},\n {'type': 'float', 'name': 'power', 'symbol': 'kW'},\n {'type': 'float', 'name': 'energy', 'symbol': 'kWh'},\n {'type': 'float', 'name': 'debit', 'symbol': 'l/m'},\n {'type': 'float', 'name': 'Luminance', 'symbol': 'Lux'},\n {'type': 'float', 'name': 'lux', 'symbol': 'lx'},\n {'type': 'float', 'name': 'meter', 'symbol': 'm'},\n {'type': 'float', 'name': 'speed', 'symbol': 'm/s'},\n {'type': 'float', 'name': 'volume', 'symbol': 'm3'},\n {'type': 'float', 'name': 'debit', 'symbol': 'm3/h'},\n {'type': 'float', 'name': 'current', 'symbol': 'mA'},\n {'type': 'float', 'name': 'Pressure', 'symbol': 'mbar'},\n {'type': 'float', 'name': 'Conductivity', 'symbol': 'mg/l'},\n {'type': 'float', 'name': 'precipitation[mm]', 'symbol': 'mm'},\n {'type': 'float', 'name': 'power', 'symbol': 'mW'},\n {'type': 'int', 'name': 'free number', 'symbol': 'none'},\n {'type': 'bool', 'name': 'state', 'symbol': 'on'},\n {'type': 'float', 'name': 'state', 'symbol': 'on/off'},\n {'type': 'float', 'name': 'pressure[Pa]', 'symbol': 'Pa'},\n {'type': 'float', 'name': 'TVOC', 'symbol': 'ppb'},\n {'type': 'float', 'name': \"qualité d'air\", 'symbol': 'ppm'},\n {'type': 'float', 'name': 'Concentration', 'symbol': 'ug/m3'},\n {'type': 'float', 'name': 'volts', 'symbol': 'V'},\n {'type': 'float', 'name': 'tension DC', 'symbol': 'VAC'},\n {'type': 'float', 'name': 'tension DC', 'symbol': 'VDC'},\n {'type': 'float', 'name': 'power', 'symbol': 'W'},\n {'type': 'float', 'name': 'irradation', 'symbol': 'W/m2'},\n {'type': 'float', 'name': 'energy', 'symbol': 'Wh'},\n {'type': 'float', 'name': 'Energy output', 'symbol': 'Wh/kWp'},\n {'type': 'float', 'name': 'degree[°]', 'symbol': '°'},\n {'type': 'float', 'name': 'degree celsius', 'symbol': '°C'}]"
     },
     "metadata": {},
     "output_type": "execute_result",
     "execution_count": 4
    }
   ],
   "source": [
    "output.units.get()\n",
    "\n",
    "# TODO can we delete a unit?\n",
    "#output.units.post()"
   ],
   "metadata": {
    "collapsed": false,
    "pycharm": {
     "name": "#%%\n",
     "is_executing": false
    }
   }
  },
  {
   "cell_type": "markdown",
   "source": [
    "### Types"
   ],
   "metadata": {
    "collapsed": false,
    "pycharm": {
     "name": "#%% md\n"
    }
   }
  },
  {
   "cell_type": "code",
   "execution_count": 5,
   "outputs": [
    {
     "data": {
      "text/plain": "['bool', 'float', 'int', 'string']"
     },
     "metadata": {},
     "output_type": "execute_result",
     "execution_count": 5
    }
   ],
   "source": [
    "output.types.get()"
   ],
   "metadata": {
    "collapsed": false,
    "pycharm": {
     "name": "#%%\n",
     "is_executing": false
    }
   }
  },
  {
   "cell_type": "markdown",
   "source": [
    "### Object Groups"
   ],
   "metadata": {
    "collapsed": false,
    "pycharm": {
     "name": "#%% md\n"
    }
   }
  },
  {
   "cell_type": "code",
   "execution_count": 4,
   "outputs": [
    {
     "data": {
      "text/plain": "[{'id': 3, 'name': 'Box 19/20/21', 'owner': {'id': 4, 'name': 'BlueHall'}},\n {'id': 28, 'name': 'Bureau 37B', 'owner': {'id': 12, 'name': 'test JPB'}},\n {'id': 31, 'name': 'LIER Compteur', 'owner': {'id': 4, 'name': 'BlueHall'}},\n {'id': 32, 'name': 'LIER Capteur', 'owner': {'id': 4, 'name': 'BlueHall'}},\n {'id': 33, 'name': 'LIER - PAC', 'owner': {'id': 4, 'name': 'BlueHall'}},\n {'id': 36, 'name': 'Box 37/38B', 'owner': {'id': 4, 'name': 'BlueHall'}},\n {'id': 37, 'name': 'Contacteurs', 'owner': {'id': 4, 'name': 'BlueHall'}},\n {'id': 38, 'name': 'Box 22/23/24B', 'owner': {'id': 4, 'name': 'BlueHall'}},\n {'id': 42, 'name': 'EPFL_JT', 'owner': {'id': 4, 'name': 'BlueHall'}},\n {'id': 52, 'name': 'Plug', 'owner': {'id': 16, 'name': 'the4bees'}},\n {'id': 68, 'name': 'test', 'owner': {'id': 2, 'name': 'bb'}},\n {'id': 94, 'name': 'CityPulse_PS', 'owner': {'id': 46, 'name': 'CityPulse'}}]"
     },
     "metadata": {},
     "output_type": "execute_result",
     "execution_count": 4
    }
   ],
   "source": [
    "output.object_groups.get_all() "
   ],
   "metadata": {
    "collapsed": false,
    "pycharm": {
     "name": "#%%\n",
     "is_executing": false
    }
   }
  },
  {
   "cell_type": "code",
   "execution_count": 5,
   "outputs": [
    {
     "data": {
      "text/plain": "{'exception': 'NotSupportedException',\n 'details': 'HTTP 415 Unsupported Media Type'}"
     },
     "metadata": {},
     "output_type": "execute_result",
     "execution_count": 5
    }
   ],
   "source": [
    "output.object_groups.put(\"object group creation test\", \"V\", 77, \"My test description\")"
   ],
   "metadata": {
    "collapsed": false,
    "pycharm": {
     "name": "#%% \n",
     "is_executing": false
    }
   }
  },
  {
   "cell_type": "code",
   "execution_count": null,
   "outputs": [],
   "source": [
    "output.object_groups.get(3)\n"
   ],
   "metadata": {
    "collapsed": false,
    "pycharm": {
     "name": "#%%\n"
    }
   }
  },
  {
   "cell_type": "markdown",
   "source": [
    "### Me"
   ],
   "metadata": {
    "collapsed": false,
    "pycharm": {
     "name": "#%% md\n"
    }
   }
  },
  {
   "cell_type": "code",
   "execution_count": 3,
   "outputs": [
    {
     "data": {
      "text/plain": "{'creationdate': '2019-09-09T15:11:26.000',\n 'email': 'frederic.montet@hefr.ch',\n 'id': 77,\n 'name': 'frederic.montet'}"
     },
     "metadata": {},
     "output_type": "execute_result",
     "execution_count": 3
    }
   ],
   "source": [
    "output.me.get()"
   ],
   "metadata": {
    "collapsed": false,
    "pycharm": {
     "name": "#%%\n",
     "is_executing": false
    }
   }
  },
  {
   "cell_type": "code",
   "execution_count": 4,
   "outputs": [
    {
     "data": {
      "text/plain": "[{'id': 4, 'name': 'BlueHall'},\n {'id': 53, 'name': 'MultiConfort'},\n {'id': 46, 'name': 'CityPulse'}]"
     },
     "metadata": {},
     "output_type": "execute_result",
     "execution_count": 4
    }
   ],
   "source": [
    "output.me.get_groups()"
   ],
   "metadata": {
    "collapsed": false,
    "pycharm": {
     "name": "#%%\n",
     "is_executing": false
    }
   }
  },
  {
   "cell_type": "markdown",
   "source": [
    "### Objects"
   ],
   "metadata": {
    "collapsed": false,
    "pycharm": {
     "name": "#%% md\n"
    }
   }
  },
  {
   "cell_type": "code",
   "execution_count": 5,
   "outputs": [
    {
     "data": {
      "text/plain": "[{'creationdate': '2016-09-05T12:17:20.000',\n  'description': '1/5/94:Lumières Halle Bleu 1er Box',\n  'disabled': False,\n  'id': 2648,\n  'name': '23B Etat_Box Leds value',\n  'owner': {'id': 4, 'name': 'BlueHall'},\n  'tags': [],\n  'unit': {'type': 'float', 'name': 'percentage', 'symbol': '%'}},\n {'creationdate': '2016-09-05T12:17:21.000',\n  'description': '2/6/103:Energie Halle Bleue Serveur',\n  'disabled': False,\n  'id': 2649,\n  'name': 'Cmpt CEE N°6 Power Tot (W)',\n  'owner': {'id': 4, 'name': 'BlueHall'},\n  'tags': [],\n  'unit': {'type': 'float', 'name': 'power', 'symbol': 'W'}}]"
     },
     "metadata": {},
     "output_type": "execute_result",
     "execution_count": 5
    }
   ],
   "source": [
    "output.objects.get_all()"
   ],
   "metadata": {
    "collapsed": false,
    "pycharm": {
     "name": "#%%\n",
     "is_executing": false
    }
   }
  },
  {
   "cell_type": "code",
   "execution_count": 6,
   "outputs": [
    {
     "data": {
      "text/plain": "{'creationdate': '2016-09-05T12:17:20.000',\n 'description': '1/5/94:Lumières Halle Bleu 1er Box',\n 'disabled': False,\n 'id': 2648,\n 'name': '23B Etat_Box Leds value',\n 'owner': {'id': 4, 'name': 'BlueHall'},\n 'tags': [],\n 'unit': {'type': 'float', 'name': 'percentage', 'symbol': '%'}}"
     },
     "metadata": {},
     "output_type": "execute_result",
     "execution_count": 6
    }
   ],
   "source": [
    "output.objects.get(2648)"
   ],
   "metadata": {
    "collapsed": false,
    "pycharm": {
     "name": "#%%\n",
     "is_executing": false
    }
   }
  },
  {
   "cell_type": "code",
   "execution_count": 7,
   "outputs": [
    {
     "data": {
      "text/plain": "[{'id': 18, 'objectId': 2648, 'token': 'cc8058b11dce2c122919253439d0f9a0'}]"
     },
     "metadata": {},
     "output_type": "execute_result",
     "execution_count": 7
    }
   ],
   "source": [
    "output.objects.get_tokens(2648)"
   ],
   "metadata": {
    "collapsed": false,
    "pycharm": {
     "name": "#%%\n",
     "is_executing": false
    }
   }
  },
  {
   "cell_type": "code",
   "execution_count": 8,
   "outputs": [
    {
     "data": {
      "text/plain": "[]"
     },
     "metadata": {},
     "output_type": "execute_result",
     "execution_count": 8
    }
   ],
   "source": [
    "output.objects.get_comments(2648)"
   ],
   "metadata": {
    "collapsed": false,
    "pycharm": {
     "name": "#%%\n",
     "is_executing": false
    }
   }
  },
  {
   "cell_type": "code",
   "execution_count": 9,
   "outputs": [
    {
     "data": {
      "text/plain": "[{'objectId': 2649,\n  'unit': {'name': 'power', 'symbol': 'W', 'type': 'float'},\n  'values': [{'timestamp': '2018-06-02T19:11:50.840', 'value': '0.0'},\n   {'timestamp': '2018-06-02T19:26:51.122', 'value': '0.0'},\n   {'timestamp': '2018-06-02T19:41:50.931', 'value': '0.0'},\n   {'timestamp': '2018-06-02T19:56:50.913', 'value': '0.0'},\n   {'timestamp': '2018-06-02T20:11:50.937', 'value': '0.0'},\n   {'timestamp': '2018-06-02T20:26:50.905', 'value': '0.0'},\n   {'timestamp': '2018-06-02T20:41:50.742', 'value': '0.0'},\n   {'timestamp': '2018-06-02T20:56:51.289', 'value': '0.0'},\n   {'timestamp': '2018-06-02T21:11:51.016', 'value': '0.0'},\n   {'timestamp': '2018-06-02T21:26:50.371', 'value': '0.0'},\n   {'timestamp': '2018-06-02T21:41:50.684', 'value': '0.0'},\n   {'timestamp': '2018-06-02T21:56:51.081', 'value': '0.0'}]}]"
     },
     "metadata": {},
     "output_type": "execute_result",
     "execution_count": 9
    }
   ],
   "source": [],
   "metadata": {
    "collapsed": false,
    "pycharm": {
     "name": "#%%\n",
     "is_executing": false
    }
   }
  },
  {
   "cell_type": "markdown",
   "source": [
    "### Values"
   ],
   "metadata": {
    "collapsed": false,
    "pycharm": {
     "name": "#%% md\n"
    }
   }
  },
  {
   "cell_type": "code",
   "execution_count": null,
   "outputs": [],
   "source": [
    "# Also try output.values.hours(...) and output.values.quarters(...) \n",
    "output.values.get(\n",
    "    2649,\n",
    "    \"2018-06-02T19:00\",\n",
    "    \"2018-06-02T22:00\",\n",
    ")\n"
   ],
   "metadata": {
    "collapsed": false,
    "pycharm": {
     "name": "#%%\n"
    }
   }
  },
  {
   "cell_type": "markdown",
   "source": [
    "### Logout (Auth)"
   ],
   "metadata": {
    "collapsed": false
   }
  },
  {
   "cell_type": "code",
   "execution_count": 12,
   "outputs": [
    {
     "data": {
      "text/plain": "''"
     },
     "metadata": {},
     "output_type": "execute_result",
     "execution_count": 12
    }
   ],
   "source": [
    "output.logout()"
   ],
   "metadata": {
    "collapsed": false,
    "pycharm": {
     "name": "#%%\n",
     "is_executing": false
    }
   }
  },
  {
   "cell_type": "code",
   "execution_count": 13,
   "outputs": [
    {
     "data": {
      "text/plain": "{'exception': 'AccessDenied',\n 'details': 'This resource is protected. Missing authorization headers: bbuser=<user id>, bbtoken=<token>'}"
     },
     "metadata": {},
     "output_type": "execute_result",
     "execution_count": 13
    }
   ],
   "source": [
    "# Check if the logout was successful\n",
    "output.me.get()"
   ],
   "metadata": {
    "collapsed": false,
    "pycharm": {
     "name": "#%%\n",
     "is_executing": false
    }
   }
  }
 ],
 "metadata": {
  "kernelspec": {
   "display_name": "Python 3",
   "language": "python",
   "name": "python3"
  },
  "language_info": {
   "codemirror_mode": {
    "name": "ipython",
    "version": 3
   },
   "file_extension": ".py",
   "mimetype": "text/x-python",
   "name": "python",
   "nbconvert_exporter": "python",
   "pygments_lexer": "ipython3",
   "version": "3.7.4"
  },
  "pycharm": {
   "stem_cell": {
    "cell_type": "raw",
    "source": [],
    "metadata": {
     "collapsed": false
    }
   }
  }
 },
 "nbformat": 4,
 "nbformat_minor": 4
}