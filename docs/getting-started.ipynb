{
 "cells": [
  {
   "cell_type": "code",
   "execution_count": 19,
   "metadata": {
    "pycharm": {
     "is_executing": false,
     "name": "#%%\n"
    }
   },
   "outputs": [],
   "source": [
    "from bbdata import output\n"
   ]
  },
  {
   "cell_type": "code",
   "execution_count": 31,
   "outputs": [
    {
     "data": {
      "text/plain": "{'description': 'auto_login',\n 'expirationdate': '2019-09-27T09:44:05.359',\n 'id': 1966617,\n 'readOnly': False,\n 'secret': '174e72f9358ea834e24405c329e00081',\n 'userId': 77}"
     },
     "metadata": {},
     "output_type": "execute_result",
     "execution_count": 31
    }
   ],
   "source": [
    "output.login()"
   ],
   "metadata": {
    "collapsed": false,
    "pycharm": {
     "name": "#%%\n",
     "is_executing": false
    }
   }
  },
  {
   "cell_type": "code",
   "execution_count": 21,
   "outputs": [
    {
     "data": {
      "text/plain": "{'creationdate': '2019-09-09T15:11:26.000',\n 'email': 'frederic.montet@hefr.ch',\n 'id': 77,\n 'name': 'frederic.montet'}"
     },
     "metadata": {},
     "output_type": "execute_result",
     "execution_count": 21
    }
   ],
   "source": [
    "output.me.me()"
   ],
   "metadata": {
    "collapsed": false,
    "pycharm": {
     "name": "#%%\n",
     "is_executing": false
    }
   }
  },
  {
   "cell_type": "code",
   "execution_count": 22,
   "outputs": [
    {
     "data": {
      "text/plain": "[{'id': 4, 'name': 'BlueHall'},\n {'id': 53, 'name': 'MultiConfort'},\n {'id': 46, 'name': 'CityPulse'}]"
     },
     "metadata": {},
     "output_type": "execute_result",
     "execution_count": 22
    }
   ],
   "source": [
    "output.me.groups()"
   ],
   "metadata": {
    "collapsed": false,
    "pycharm": {
     "name": "#%%\n",
     "is_executing": false
    }
   }
  },
  {
   "cell_type": "code",
   "execution_count": 23,
   "outputs": [
    {
     "data": {
      "text/plain": "[{'creationdate': '2016-09-05T12:17:20.000',\n  'description': '1/5/94:Lumières Halle Bleu 1er Box',\n  'disabled': False,\n  'id': 2648,\n  'name': '23B Etat_Box Leds value',\n  'owner': {'id': 4, 'name': 'BlueHall'},\n  'tags': [],\n  'unit': {'type': 'float', 'name': 'percentage', 'symbol': '%'}},\n {'creationdate': '2016-09-05T12:17:21.000',\n  'description': '2/6/103:Energie Halle Bleue Serveur',\n  'disabled': False,\n  'id': 2649,\n  'name': 'Cmpt CEE N°6 Power Tot (W)',\n  'owner': {'id': 4, 'name': 'BlueHall'},\n  'tags': [],\n  'unit': {'type': 'float', 'name': 'power', 'symbol': 'W'}}]"
     },
     "metadata": {},
     "output_type": "execute_result",
     "execution_count": 23
    }
   ],
   "source": [
    "output.objects.list(1, 2)"
   ],
   "metadata": {
    "collapsed": false,
    "pycharm": {
     "name": "#%%\n",
     "is_executing": false
    }
   }
  },
  {
   "cell_type": "code",
   "execution_count": 24,
   "outputs": [
    {
     "data": {
      "text/plain": "{'creationdate': '2016-09-05T12:17:20.000',\n 'description': '1/5/94:Lumières Halle Bleu 1er Box',\n 'disabled': False,\n 'id': 2648,\n 'name': '23B Etat_Box Leds value',\n 'owner': {'id': 4, 'name': 'BlueHall'},\n 'tags': [],\n 'unit': {'type': 'float', 'name': 'percentage', 'symbol': '%'}}"
     },
     "metadata": {},
     "output_type": "execute_result",
     "execution_count": 24
    }
   ],
   "source": [
    "output.objects.get_details(2648)"
   ],
   "metadata": {
    "collapsed": false,
    "pycharm": {
     "name": "#%%\n",
     "is_executing": false
    }
   }
  },
  {
   "cell_type": "code",
   "execution_count": 25,
   "outputs": [
    {
     "data": {
      "text/plain": "[{'id': 18, 'objectId': 2648, 'token': 'cc8058b11dce2c122919253439d0f9a0'}]"
     },
     "metadata": {},
     "output_type": "execute_result",
     "execution_count": 25
    }
   ],
   "source": [
    "output.objects.get_tokens(2648)"
   ],
   "metadata": {
    "collapsed": false,
    "pycharm": {
     "name": "#%%\n",
     "is_executing": false
    }
   }
  },
  {
   "cell_type": "code",
   "execution_count": 26,
   "outputs": [
    {
     "data": {
      "text/plain": "[]"
     },
     "metadata": {},
     "output_type": "execute_result",
     "execution_count": 26
    }
   ],
   "source": [
    "output.objects.get_comments(2648)"
   ],
   "metadata": {
    "collapsed": false,
    "pycharm": {
     "name": "#%%\n",
     "is_executing": false
    }
   }
  },
  {
   "cell_type": "code",
   "execution_count": 37,
   "outputs": [
    {
     "data": {
      "text/plain": "[{'objectId': 2649,\n  'unit': {'name': 'power', 'symbol': 'W', 'type': 'float'},\n  'values': [{'timestamp': '2018-06-02T19:11:50.840', 'value': '0.0'},\n   {'timestamp': '2018-06-02T19:26:51.122', 'value': '0.0'},\n   {'timestamp': '2018-06-02T19:41:50.931', 'value': '0.0'},\n   {'timestamp': '2018-06-02T19:56:50.913', 'value': '0.0'},\n   {'timestamp': '2018-06-02T20:11:50.937', 'value': '0.0'},\n   {'timestamp': '2018-06-02T20:26:50.905', 'value': '0.0'},\n   {'timestamp': '2018-06-02T20:41:50.742', 'value': '0.0'},\n   {'timestamp': '2018-06-02T20:56:51.289', 'value': '0.0'},\n   {'timestamp': '2018-06-02T21:11:51.016', 'value': '0.0'},\n   {'timestamp': '2018-06-02T21:26:50.371', 'value': '0.0'},\n   {'timestamp': '2018-06-02T21:41:50.684', 'value': '0.0'},\n   {'timestamp': '2018-06-02T21:56:51.081', 'value': '0.0'}]}]"
     },
     "metadata": {},
     "output_type": "execute_result",
     "execution_count": 37
    }
   ],
   "source": [
    "# Also try output.values.hours(...) and output.values.quarters(...) \n",
    "output.values.range(\n",
    "    2649,\n",
    "    \"2018-06-02T19:00\",\n",
    "    \"2018-06-02T22:00\",\n",
    ")"
   ],
   "metadata": {
    "collapsed": false,
    "pycharm": {
     "name": "#%%\n",
     "is_executing": false
    }
   }
  },
  {
   "cell_type": "code",
   "execution_count": 28,
   "outputs": [
    {
     "data": {
      "text/plain": "''"
     },
     "metadata": {},
     "output_type": "execute_result",
     "execution_count": 28
    }
   ],
   "source": [
    "output.logout()"
   ],
   "metadata": {
    "collapsed": false,
    "pycharm": {
     "name": "#%%\n",
     "is_executing": false
    }
   }
  },
  {
   "cell_type": "code",
   "execution_count": 29,
   "outputs": [
    {
     "data": {
      "text/plain": "{'exception': 'AccessDenied',\n 'details': 'This resource is protected. Missing authorization headers: bbuser=<user id>, bbtoken=<token>'}"
     },
     "metadata": {},
     "output_type": "execute_result",
     "execution_count": 29
    }
   ],
   "source": [
    "output.me.me()"
   ],
   "metadata": {
    "collapsed": false,
    "pycharm": {
     "name": "#%%\n",
     "is_executing": false
    }
   }
  }
 ],
 "metadata": {
  "kernelspec": {
   "display_name": "Python 3",
   "language": "python",
   "name": "python3"
  },
  "language_info": {
   "codemirror_mode": {
    "name": "ipython",
    "version": 3
   },
   "file_extension": ".py",
   "mimetype": "text/x-python",
   "name": "python",
   "nbconvert_exporter": "python",
   "pygments_lexer": "ipython3",
   "version": "3.7.4"
  },
  "pycharm": {
   "stem_cell": {
    "cell_type": "raw",
    "source": [],
    "metadata": {
     "collapsed": false
    }
   }
  }
 },
 "nbformat": 4,
 "nbformat_minor": 4
}