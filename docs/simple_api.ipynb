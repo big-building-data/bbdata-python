{
 "cells": [
  {
   "cell_type": "code",
   "source": [
    "from bbdata.endpoint import output\n",
    "\n",
    "my_api = output\n",
    "\n",
    "my_api.login()"
   ],
   "metadata": {
    "collapsed": false,
    "pycharm": {
     "name": "#%%\n",
     "is_executing": false
    }
   },
   "execution_count": 8,
   "outputs": [
    {
     "data": {
      "text/plain": "{'description': 'auto_login',\n 'expirationdate': '2019-10-25T03:22:12.955',\n 'id': 1967083,\n 'readOnly': False,\n 'secret': '85b79a0ef3934cd6be9ee7a01cfce839',\n 'userId': 77}"
     },
     "metadata": {},
     "output_type": "execute_result",
     "execution_count": 8
    }
   ]
  }
 ],
 "metadata": {
  "kernelspec": {
   "display_name": "Python 3",
   "language": "python",
   "name": "python3"
  },
  "language_info": {
   "codemirror_mode": {
    "name": "ipython",
    "version": 3
   },
   "file_extension": ".py",
   "mimetype": "text/x-python",
   "name": "python",
   "nbconvert_exporter": "python",
   "pygments_lexer": "ipython3",
   "version": "3.7.4"
  },
  "pycharm": {
   "stem_cell": {
    "cell_type": "raw",
    "source": [],
    "metadata": {
     "collapsed": false
    }
   }
  }
 },
 "nbformat": 4,
 "nbformat_minor": 4
}